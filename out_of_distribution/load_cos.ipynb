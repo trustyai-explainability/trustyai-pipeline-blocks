{
 "cells": [
  {
   "cell_type": "code",
   "execution_count": null,
   "id": "4599b255-e13f-4c06-a95d-c87c303b7b73",
   "metadata": {},
   "outputs": [],
   "source": [
    "!pip3 install --upgrade pip"
   ]
  },
  {
   "cell_type": "code",
   "execution_count": null,
   "id": "4f6f5085-c4fa-4677-b732-4532630d411e",
   "metadata": {},
   "outputs": [],
   "source": [
    "!pip3 install -r requirements.txt"
   ]
  },
  {
   "cell_type": "code",
   "execution_count": 5,
   "id": "b78bca2c-0f27-47fb-8483-6d72db17997c",
   "metadata": {},
   "outputs": [
    {
     "name": "stdout",
     "output_type": "stream",
     "text": [
      "None\n"
     ]
    }
   ],
   "source": [
    "import tarfile\n",
    "import os\n",
    "from pathlib import Path\n",
    "\n",
    "\n",
    "source_path = 'ood_enabler.tar.gz'\n",
    "tar = tarfile.open(source_path, \"r:gz\")\n",
    "extract_dir = os.path.join('.', '{}'.format(Path(source_path).with_suffix('')).split('/')[-1].split('.tar')[0])\n",
    "\n",
    "os.makedirs(extract_dir, exist_ok=True)\n",
    "tar.extractall(extract_dir)\n",
    "tar.close()"
   ]
  },
  {
   "cell_type": "code",
   "execution_count": 2,
   "id": "4efcec95-b34f-41ee-8c7f-113040be425f",
   "metadata": {},
   "outputs": [
    {
     "name": "stderr",
     "output_type": "stream",
     "text": [
      "2023-10-20 14:00:38.049457: I tensorflow/core/platform/cpu_feature_guard.cc:193] This TensorFlow binary is optimized with oneAPI Deep Neural Network Library (oneDNN) to use the following CPU instructions in performance-critical operations:  AVX2 AVX512F AVX512_VNNI FMA\n",
      "To enable them in other operations, rebuild TensorFlow with the appropriate compiler flags.\n",
      "2023-10-20 14:00:38.172600: I tensorflow/core/util/port.cc:104] oneDNN custom operations are on. You may see slightly different numerical results due to floating-point round-off errors from different computation orders. To turn them off, set the environment variable `TF_ENABLE_ONEDNN_OPTS=0`.\n",
      "2023-10-20 14:00:38.177482: W tensorflow/compiler/xla/stream_executor/platform/default/dso_loader.cc:64] Could not load dynamic library 'libcudart.so.11.0'; dlerror: libcudart.so.11.0: cannot open shared object file: No such file or directory\n",
      "2023-10-20 14:00:38.177505: I tensorflow/compiler/xla/stream_executor/cuda/cudart_stub.cc:29] Ignore above cudart dlerror if you do not have a GPU set up on your machine.\n",
      "2023-10-20 14:00:39.256106: W tensorflow/compiler/xla/stream_executor/platform/default/dso_loader.cc:64] Could not load dynamic library 'libnvinfer.so.7'; dlerror: libnvinfer.so.7: cannot open shared object file: No such file or directory\n",
      "2023-10-20 14:00:39.256164: W tensorflow/compiler/xla/stream_executor/platform/default/dso_loader.cc:64] Could not load dynamic library 'libnvinfer_plugin.so.7'; dlerror: libnvinfer_plugin.so.7: cannot open shared object file: No such file or directory\n",
      "2023-10-20 14:00:39.256172: W tensorflow/compiler/tf2tensorrt/utils/py_utils.cc:38] TF-TRT Warning: Cannot dlopen some TensorRT libraries. If you would like to use Nvidia GPU with TensorRT, please make sure the missing libraries mentioned above are installed properly.\n"
     ]
    }
   ],
   "source": [
    "import os\n",
    "import sys\n",
    "from tempfile import TemporaryDirectory\n",
    "\n",
    "ood_path = os.path.abspath('.')\n",
    "if ood_path not in sys.path:\n",
    "    sys.path.append(ood_path)\n",
    "    \n",
    "from ood_enabler.storage.model_store import ModelStore\n",
    "from ood_enabler.storage.local_storage import FileSystemStorage\n",
    "from ood_enabler.storage.cos_storage import COSStorage"
   ]
  },
  {
   "cell_type": "code",
   "execution_count": 17,
   "id": "ff8c04e9-ba24-41dd-8662-909eddb99316",
   "metadata": {},
   "outputs": [],
   "source": [
    "model_store = ModelStore.from_cos(bucket=os.environ.get('OOD_COS_BUCKET'))\n"
   ]
  },
  {
   "cell_type": "code",
   "execution_count": 5,
   "id": "b1415da7-d986-4ce1-af32-4ac13b1a2274",
   "metadata": {},
   "outputs": [],
   "source": [
    "path = model_store.download(os.getenv('cos_model_path'), 'model')"
   ]
  },
  {
   "cell_type": "code",
   "execution_count": 2,
   "id": "13bf561b-d40c-475a-ade7-6d4258b67107",
   "metadata": {},
   "outputs": [],
   "source": [
    "os.rename(path,'model/model.pt')\n"
   ]
  }
 ],
 "metadata": {
  "kernelspec": {
   "display_name": "Python 3.9",
   "language": "python",
   "name": "python3"
  },
  "language_info": {
   "codemirror_mode": {
    "name": "ipython",
    "version": 3
   },
   "file_extension": ".py",
   "mimetype": "text/x-python",
   "name": "python",
   "nbconvert_exporter": "python",
   "pygments_lexer": "ipython3",
   "version": "3.9.16"
  }
 },
 "nbformat": 4,
 "nbformat_minor": 5
}
