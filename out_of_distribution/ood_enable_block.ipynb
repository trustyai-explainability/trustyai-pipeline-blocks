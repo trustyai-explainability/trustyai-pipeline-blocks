{
 "cells": [
  {
   "cell_type": "code",
   "execution_count": null,
   "id": "9d639a43-3100-4b62-9b38-64cd768eab77",
   "metadata": {},
   "outputs": [],
   "source": [
    "!pip3 install --upgrade pip"
   ]
  },
  {
   "cell_type": "code",
   "execution_count": null,
   "id": "edfb667a-b1ac-453d-934f-d1d87fae964c",
   "metadata": {},
   "outputs": [],
   "source": [
    "!pip3 install -r requirements.txt"
   ]
  },
  {
   "cell_type": "code",
   "execution_count": null,
   "id": "58cae621-0bdf-480d-8505-3f5262414225",
   "metadata": {},
   "outputs": [],
   "source": [
    "!pip install opencv-contrib-python-headless==4.8.0.76"
   ]
  },
  {
   "cell_type": "code",
   "execution_count": 32,
   "id": "0f0644a2-f95e-4719-abed-14bc99e1f455",
   "metadata": {},
   "outputs": [],
   "source": [
    "import tarfile\n",
    "import os\n",
    "from pathlib import Path\n",
    "\n",
    "source_path = 'ood_enabler.tar.gz'\n",
    "tar = tarfile.open(source_path, \"r:gz\")\n",
    "extract_dir = os.path.join('.', '{}'.format(Path(source_path).with_suffix('')).split('/')[-1].split('.tar')[0])\n",
    "\n",
    "os.makedirs(extract_dir, exist_ok=True)\n",
    "tar.extractall(extract_dir)\n",
    "tar.close()"
   ]
  },
  {
   "cell_type": "code",
   "execution_count": 2,
   "id": "51cb5ab9-9ce9-4f1b-ba6f-e054aa56c3fa",
   "metadata": {},
   "outputs": [],
   "source": [
    "import torch\n",
    "import torchvision\n",
    "import os\n",
    "import sys\n",
    "from tempfile import TemporaryDirectory\n",
    "\n",
    "ood_path = os.path.abspath('.')\n",
    "if ood_path not in sys.path:\n",
    "    sys.path.append(ood_path)\n",
    "    \n",
    "from ood_enabler.ood_enabler import OODEnabler\n",
    "from ood_enabler.model_wrapper.pytorch import PytorchWrapper\n",
    "from ood_enabler.storage.model_store import ModelStore\n",
    "from ood_enabler.storage.local_storage import FileSystemStorage\n",
    "from ood_enabler.data.pytorch_image_data_handler import PytorchImageDataHandler\n",
    "from ood_enabler.util.constants import SavedModelFormat\n",
    "from ood_enabler.util.archiver import archive"
   ]
  },
  {
   "cell_type": "code",
   "execution_count": 3,
   "id": "76de3c90-0176-42bd-bff7-27d455d68ff6",
   "metadata": {},
   "outputs": [],
   "source": [
    "import glob\n",
    "import json\n",
    "import os\n",
    "from pathlib import Path\n",
    "import requests\n",
    "import tarfile\n",
    "from urllib.parse import urlparse\n",
    "from ast import literal_eval as make_tuple\n",
    "\n",
    "data_dir_name = 'in_data/in_distribution.zip'\n",
    "model_path = 'model/model.pt'\n"
   ]
  },
  {
   "cell_type": "code",
   "execution_count": 4,
   "id": "7fcf2e5d-093a-451c-8484-ba7fe7ac0e71",
   "metadata": {},
   "outputs": [],
   "source": [
    "local_store = FileSystemStorage()\n",
    "#ds_metadata = {'img_height': 224, 'img_width': 224, 'batch_size': 32, 'normalize': ([0.485, 0.456, 0.406], [0.229, 0.224, 0.225])}\n",
    "ds_metadata = {'img_height': int(os.getenv(\"img_height\")), 'img_width': int(os.getenv(\"img_width\")), \n",
    "               'batch_size': int(os.getenv(\"batch_size\", 32)), 'normalize': os.getenv(\"normalize\")}\n",
    "\n",
    "if isinstance(ds_metadata['normalize'], str):\n",
    "    ds_metadata['normalize'] = make_tuple(ds_metadata['normalize'])\n",
    "    \n",
    "else:\n",
    "    ds_metadata['normalize'] = int(ds_metadata['normalize'])\n",
    "    \n",
    "data_handler = PytorchImageDataHandler()\n",
    "data_handler.load_dataset(local_store, data_dir_name, '.', ds_metadata)"
   ]
  },
  {
   "cell_type": "code",
   "execution_count": null,
   "id": "17d27ce9-7d0d-4b76-a45b-dc330135de2e",
   "metadata": {},
   "outputs": [],
   "source": []
  },
  {
   "cell_type": "code",
   "execution_count": 18,
   "id": "69c34cb7-cfa0-4967-98d0-4c94d51f0eb7",
   "metadata": {},
   "outputs": [
    {
     "name": "stdout",
     "output_type": "stream",
     "text": [
      "Number of layers for model from path:52\n",
      "returning base model  ResNet(\n",
      "  (conv1): Conv2d(3, 64, kernel_size=(7, 7), stride=(2, 2), padding=(3, 3), bias=False)\n",
      "  (bn1): BatchNorm2d(64, eps=1e-05, momentum=0.1, affine=True, track_running_stats=True)\n",
      "  (relu): ReLU(inplace=True)\n",
      "  (maxpool): MaxPool2d(kernel_size=3, stride=2, padding=1, dilation=1, ceil_mode=False)\n",
      "  (layer1): Sequential(\n",
      "    (0): BasicBlock(\n",
      "      (conv1): Conv2d(64, 64, kernel_size=(3, 3), stride=(1, 1), padding=(1, 1), bias=False)\n",
      "      (bn1): BatchNorm2d(64, eps=1e-05, momentum=0.1, affine=True, track_running_stats=True)\n",
      "      (relu): ReLU(inplace=True)\n",
      "      (conv2): Conv2d(64, 64, kernel_size=(3, 3), stride=(1, 1), padding=(1, 1), bias=False)\n",
      "      (bn2): BatchNorm2d(64, eps=1e-05, momentum=0.1, affine=True, track_running_stats=True)\n",
      "    )\n",
      "    (1): BasicBlock(\n",
      "      (conv1): Conv2d(64, 64, kernel_size=(3, 3), stride=(1, 1), padding=(1, 1), bias=False)\n",
      "      (bn1): BatchNorm2d(64, eps=1e-05, momentum=0.1, affine=True, track_running_stats=True)\n",
      "      (relu): ReLU(inplace=True)\n",
      "      (conv2): Conv2d(64, 64, kernel_size=(3, 3), stride=(1, 1), padding=(1, 1), bias=False)\n",
      "      (bn2): BatchNorm2d(64, eps=1e-05, momentum=0.1, affine=True, track_running_stats=True)\n",
      "    )\n",
      "  )\n",
      "  (layer2): Sequential(\n",
      "    (0): BasicBlock(\n",
      "      (conv1): Conv2d(64, 128, kernel_size=(3, 3), stride=(2, 2), padding=(1, 1), bias=False)\n",
      "      (bn1): BatchNorm2d(128, eps=1e-05, momentum=0.1, affine=True, track_running_stats=True)\n",
      "      (relu): ReLU(inplace=True)\n",
      "      (conv2): Conv2d(128, 128, kernel_size=(3, 3), stride=(1, 1), padding=(1, 1), bias=False)\n",
      "      (bn2): BatchNorm2d(128, eps=1e-05, momentum=0.1, affine=True, track_running_stats=True)\n",
      "      (downsample): Sequential(\n",
      "        (0): Conv2d(64, 128, kernel_size=(1, 1), stride=(2, 2), bias=False)\n",
      "        (1): BatchNorm2d(128, eps=1e-05, momentum=0.1, affine=True, track_running_stats=True)\n",
      "      )\n",
      "    )\n",
      "    (1): BasicBlock(\n",
      "      (conv1): Conv2d(128, 128, kernel_size=(3, 3), stride=(1, 1), padding=(1, 1), bias=False)\n",
      "      (bn1): BatchNorm2d(128, eps=1e-05, momentum=0.1, affine=True, track_running_stats=True)\n",
      "      (relu): ReLU(inplace=True)\n",
      "      (conv2): Conv2d(128, 128, kernel_size=(3, 3), stride=(1, 1), padding=(1, 1), bias=False)\n",
      "      (bn2): BatchNorm2d(128, eps=1e-05, momentum=0.1, affine=True, track_running_stats=True)\n",
      "    )\n",
      "  )\n",
      "  (layer3): Sequential(\n",
      "    (0): BasicBlock(\n",
      "      (conv1): Conv2d(128, 256, kernel_size=(3, 3), stride=(2, 2), padding=(1, 1), bias=False)\n",
      "      (bn1): BatchNorm2d(256, eps=1e-05, momentum=0.1, affine=True, track_running_stats=True)\n",
      "      (relu): ReLU(inplace=True)\n",
      "      (conv2): Conv2d(256, 256, kernel_size=(3, 3), stride=(1, 1), padding=(1, 1), bias=False)\n",
      "      (bn2): BatchNorm2d(256, eps=1e-05, momentum=0.1, affine=True, track_running_stats=True)\n",
      "      (downsample): Sequential(\n",
      "        (0): Conv2d(128, 256, kernel_size=(1, 1), stride=(2, 2), bias=False)\n",
      "        (1): BatchNorm2d(256, eps=1e-05, momentum=0.1, affine=True, track_running_stats=True)\n",
      "      )\n",
      "    )\n",
      "    (1): BasicBlock(\n",
      "      (conv1): Conv2d(256, 256, kernel_size=(3, 3), stride=(1, 1), padding=(1, 1), bias=False)\n",
      "      (bn1): BatchNorm2d(256, eps=1e-05, momentum=0.1, affine=True, track_running_stats=True)\n",
      "      (relu): ReLU(inplace=True)\n",
      "      (conv2): Conv2d(256, 256, kernel_size=(3, 3), stride=(1, 1), padding=(1, 1), bias=False)\n",
      "      (bn2): BatchNorm2d(256, eps=1e-05, momentum=0.1, affine=True, track_running_stats=True)\n",
      "    )\n",
      "  )\n",
      "  (layer4): Sequential(\n",
      "    (0): BasicBlock(\n",
      "      (conv1): Conv2d(256, 512, kernel_size=(3, 3), stride=(2, 2), padding=(1, 1), bias=False)\n",
      "      (bn1): BatchNorm2d(512, eps=1e-05, momentum=0.1, affine=True, track_running_stats=True)\n",
      "      (relu): ReLU(inplace=True)\n",
      "      (conv2): Conv2d(512, 512, kernel_size=(3, 3), stride=(1, 1), padding=(1, 1), bias=False)\n",
      "      (bn2): BatchNorm2d(512, eps=1e-05, momentum=0.1, affine=True, track_running_stats=True)\n",
      "      (downsample): Sequential(\n",
      "        (0): Conv2d(256, 512, kernel_size=(1, 1), stride=(2, 2), bias=False)\n",
      "        (1): BatchNorm2d(512, eps=1e-05, momentum=0.1, affine=True, track_running_stats=True)\n",
      "      )\n",
      "    )\n",
      "    (1): BasicBlock(\n",
      "      (conv1): Conv2d(512, 512, kernel_size=(3, 3), stride=(1, 1), padding=(1, 1), bias=False)\n",
      "      (bn1): BatchNorm2d(512, eps=1e-05, momentum=0.1, affine=True, track_running_stats=True)\n",
      "      (relu): ReLU(inplace=True)\n",
      "      (conv2): Conv2d(512, 512, kernel_size=(3, 3), stride=(1, 1), padding=(1, 1), bias=False)\n",
      "      (bn2): BatchNorm2d(512, eps=1e-05, momentum=0.1, affine=True, track_running_stats=True)\n",
      "    )\n",
      "  )\n",
      "  (avgpool): AdaptiveAvgPool2d(output_size=(1, 1))\n",
      "  (fc): Linear(in_features=512, out_features=1000, bias=True)\n",
      ")\n",
      "Number of layers for base reference model:52\n",
      "Compatible base model architecture\n",
      "\n"
     ]
    }
   ],
   "source": [
    "model_store = ModelStore.from_filesystem()\n",
    "model_metadata = {'type': os.getenv(\"model_type\"), 'arch': os.getenv(\"model_arch\"), 'ood_thresh_percentile': 20}\n",
    "\n",
    "model = model_store.load(model_metadata, model_path)\n"
   ]
  },
  {
   "cell_type": "code",
   "execution_count": 19,
   "id": "f189678d-9b5a-4415-a04d-f88f26caef5b",
   "metadata": {},
   "outputs": [
    {
     "name": "stdout",
     "output_type": "stream",
     "text": [
      "adding OOD layer pytorch\n"
     ]
    },
    {
     "name": "stderr",
     "output_type": "stream",
     "text": [
      "Inference progress: 100%|██████████| 13/13 [02:13<00:00, 10.25s/it]"
     ]
    },
    {
     "name": "stdout",
     "output_type": "stream",
     "text": [
      "set_threshold for given data handler:Parameter containing:\n",
      "tensor([0.8423])\n"
     ]
    },
    {
     "name": "stderr",
     "output_type": "stream",
     "text": [
      "\n",
      "/opt/app-root/lib64/python3.9/site-packages/numpy/lib/function_base.py:3700: FutureWarning: The input object of type 'Tensor' is an array-like implementing one of the corresponding protocols (`__array__`, `__array_interface__` or `__array_struct__`); but not a sequence (or 0-D). In the future, this object will be coerced as if it was first converted using `np.array(obj)`. To retain the old behaviour, you have to either modify the type 'Tensor', or assign to an empty array created with `np.empty(correct_shape, dtype=object)`.\n",
      "  a = np.asanyarray(a)\n",
      "/opt/app-root/lib64/python3.9/site-packages/numpy/lib/function_base.py:3700: VisibleDeprecationWarning: Creating an ndarray from ragged nested sequences (which is a list-or-tuple of lists-or-tuples-or ndarrays with different lengths or shapes) is deprecated. If you meant to do this, you must specify 'dtype=object' when creating the ndarray.\n",
      "  a = np.asanyarray(a)\n"
     ]
    },
    {
     "data": {
      "text/plain": [
       "<ood_enabler.model_wrapper.pytorch.PytorchWrapper at 0x7efdfd5baeb0>"
      ]
     },
     "execution_count": 19,
     "metadata": {},
     "output_type": "execute_result"
    }
   ],
   "source": [
    "OODEnabler.ood_enable(model, data_handler)"
   ]
  },
  {
   "cell_type": "code",
   "execution_count": 35,
   "id": "c063d0a5-6587-4086-a668-e5544ad1a30a",
   "metadata": {},
   "outputs": [
    {
     "data": {
      "text/plain": [
       "'model/'"
      ]
     },
     "execution_count": 35,
     "metadata": {},
     "output_type": "execute_result"
    }
   ],
   "source": [
    "model_store.upload(model, 'model/', saved_model_format=SavedModelFormat.ONNX)"
   ]
  },
  {
   "cell_type": "code",
   "execution_count": null,
   "id": "bf40aa03-fcfe-454c-84a2-1ba6a6ebd9d8",
   "metadata": {},
   "outputs": [],
   "source": []
  }
 ],
 "metadata": {
  "kernelspec": {
   "display_name": "Python 3.9",
   "language": "python",
   "name": "python3"
  },
  "language_info": {
   "codemirror_mode": {
    "name": "ipython",
    "version": 3
   },
   "file_extension": ".py",
   "mimetype": "text/x-python",
   "name": "python",
   "nbconvert_exporter": "python",
   "pygments_lexer": "ipython3",
   "version": "3.9.16"
  }
 },
 "nbformat": 4,
 "nbformat_minor": 5
}
