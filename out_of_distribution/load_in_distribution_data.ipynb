{
 "cells": [
  {
   "cell_type": "code",
   "execution_count": 4,
   "id": "92b30226-d31a-4db0-9a66-045324d291b4",
   "metadata": {},
   "outputs": [],
   "source": [
    "import glob\n",
    "import json\n",
    "import os\n",
    "from pathlib import Path\n",
    "import requests\n",
    "import tarfile\n",
    "from urllib.parse import urlparse"
   ]
  },
  {
   "cell_type": "code",
   "execution_count": 5,
   "id": "c605a299-fa64-4171-b7b7-362d2448bc60",
   "metadata": {},
   "outputs": [],
   "source": [
    "data_file = os.getenv('DATASET_URL',\n",
    "                      'https://download.pytorch.org/tutorial/hymenoptera_data.zip')"
   ]
  },
  {
   "cell_type": "code",
   "execution_count": 6,
   "id": "7340a3b0-9c3a-4cb7-9c76-7e27b71c444b",
   "metadata": {},
   "outputs": [
    {
     "name": "stdout",
     "output_type": "stream",
     "text": [
      "Downloading data file https://download.pytorch.org/tutorial/hymenoptera_data.zip ...\n",
      "Saving downloaded file \"in_distribution.zip\" as ...\n"
     ]
    }
   ],
   "source": [
    "data_dir_name = 'in_data'\n",
    "\n",
    "print('Downloading data file {} ...'.format(data_file))\n",
    "r = requests.get(data_file)\n",
    "if r.status_code != 200:\n",
    "    raise RuntimeError('Could not fetch {}: HTTP status code {}'\n",
    "                       .format(data_file, r.status_code))\n",
    "else:\n",
    "    # extract data set file name from URL\n",
    "    data_file_name = Path((urlparse(data_file).path)).name\n",
    "    # check if data is zip or .tar.gz\n",
    "    if '.tar.gz' in data_file_name: \n",
    "        data_file_name = 'in_distribution.tar.gz'\n",
    "        \n",
    "    elif '.zip' in data_file_name:\n",
    "        data_file_name = 'in_distribution.zip'\n",
    "    \n",
    "    # create the directory where the downloaded file will be stored\n",
    "    data_dir = Path(data_dir_name)\n",
    "    data_dir.mkdir(parents=True, exist_ok=True)\n",
    "    downloaded_data_file = data_dir / data_file_name\n",
    "\n",
    "    \n",
    "    print('Saving downloaded file \"{}\" as ...'.format(data_file_name))\n",
    "    with open(downloaded_data_file, 'wb') as downloaded_file:\n",
    "        downloaded_file.write(r.content)\n",
    "        \n",
    "    "
   ]
  },
  {
   "cell_type": "code",
   "execution_count": null,
   "id": "d47649d2-e74e-4cca-8452-450010ff766b",
   "metadata": {},
   "outputs": [],
   "source": []
  }
 ],
 "metadata": {
  "kernelspec": {
   "display_name": "Python 3.9",
   "language": "python",
   "name": "python3"
  },
  "language_info": {
   "codemirror_mode": {
    "name": "ipython",
    "version": 3
   },
   "file_extension": ".py",
   "mimetype": "text/x-python",
   "name": "python",
   "nbconvert_exporter": "python",
   "pygments_lexer": "ipython3",
   "version": "3.9.16"
  }
 },
 "nbformat": 4,
 "nbformat_minor": 5
}
